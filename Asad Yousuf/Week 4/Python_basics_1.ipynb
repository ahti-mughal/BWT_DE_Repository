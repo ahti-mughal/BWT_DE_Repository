{
  "nbformat": 4,
  "nbformat_minor": 0,
  "metadata": {
    "colab": {
      "provenance": [],
      "collapsed_sections": [
        "_5BjpN2_jN6f",
        "XP-oBY_J8zmb",
        "2eXNu0ob912v",
        "uBSO066i-Hf1",
        "uqcS_7IHD0x1",
        "1ldnsiupEBhE",
        "woa7DlFXEMWc",
        "GAWh2OCbFHHJ"
      ]
    },
    "kernelspec": {
      "name": "python3",
      "display_name": "Python 3"
    },
    "language_info": {
      "name": "python"
    }
  },
  "cells": [
    {
      "cell_type": "markdown",
      "source": [
        "# **VARIABLES**"
      ],
      "metadata": {
        "id": "_5BjpN2_jN6f"
      }
    },
    {
      "cell_type": "code",
      "execution_count": 8,
      "metadata": {
        "id": "7lqLbFjHW3bm"
      },
      "outputs": [],
      "source": [
        "# Creating Variables\n",
        "\n",
        "first_name = 'Asad'\n",
        "last_name = 'Yousuf'\n",
        "day = 6\n",
        "month = 'August'\n",
        "year = 1990\n"
      ]
    },
    {
      "cell_type": "code",
      "source": [
        "# printing variables\n",
        "print('My name is ', first_name , last_name , \"\\nMy date of birth is \", day,'th', month , year)"
      ],
      "metadata": {
        "colab": {
          "base_uri": "https://localhost:8080/"
        },
        "id": "1azHni5360C4",
        "outputId": "4bd115dc-b7a0-4009-d28f-4535afd15a6f"
      },
      "execution_count": 9,
      "outputs": [
        {
          "output_type": "stream",
          "name": "stdout",
          "text": [
            "My name is  Asad Yousuf \n",
            "My date of birth is  6 th August 1990\n"
          ]
        }
      ]
    },
    {
      "cell_type": "code",
      "source": [
        "# Python allows you to assign values to multiple variables in one line:\n",
        "x, y, z = \"Orange\", \"Banana\", \"Cherry\"\n",
        "print(x)\n",
        "print(y)\n",
        "print(z)"
      ],
      "metadata": {
        "colab": {
          "base_uri": "https://localhost:8080/"
        },
        "id": "HLlP3TmD8LHV",
        "outputId": "f9edec9a-5fd2-4d49-b4cc-af182ca68ba3"
      },
      "execution_count": 10,
      "outputs": [
        {
          "output_type": "stream",
          "name": "stdout",
          "text": [
            "Orange\n",
            "Banana\n",
            "Cherry\n"
          ]
        }
      ]
    },
    {
      "cell_type": "code",
      "source": [
        "# Unpack a list\n",
        "fruits = [\"apple\", \"banana\", \"cherry\"]\n",
        "x, y, z = fruits\n",
        "print(x)\n",
        "print(y)\n",
        "print(z)"
      ],
      "metadata": {
        "colab": {
          "base_uri": "https://localhost:8080/"
        },
        "id": "o_2Y1cLn8PWL",
        "outputId": "81578fae-be10-4e16-d0dc-7528ca20403f"
      },
      "execution_count": 11,
      "outputs": [
        {
          "output_type": "stream",
          "name": "stdout",
          "text": [
            "apple\n",
            "banana\n",
            "cherry\n"
          ]
        }
      ]
    },
    {
      "cell_type": "markdown",
      "source": [
        "## GLOBAL VARIABLE\n",
        "Variables that are created outside of a function (as in all of the examples above) are known as global variables.\n",
        "\n",
        "Global variables can be used by everyone, both inside of functions and outside."
      ],
      "metadata": {
        "id": "XP-oBY_J8zmb"
      }
    },
    {
      "cell_type": "code",
      "source": [
        "#Create a variable outside of a function, and use it inside the function\n",
        "\n",
        "x = \"awesome\"\n",
        "\n",
        "def myfunc():\n",
        "  print(\"Python is \" + x)\n",
        "\n",
        "myfunc()"
      ],
      "metadata": {
        "colab": {
          "base_uri": "https://localhost:8080/"
        },
        "id": "W2XmUWjp9A0o",
        "outputId": "b324d0df-3183-4397-b851-6e2beaabbd16"
      },
      "execution_count": 12,
      "outputs": [
        {
          "output_type": "stream",
          "name": "stdout",
          "text": [
            "Python is awesome\n"
          ]
        }
      ]
    },
    {
      "cell_type": "code",
      "source": [
        "#Create a variable inside a function, with the same name as the global variable\n",
        "\n",
        "x = \"awesome\"\n",
        "\n",
        "def myfunc():\n",
        "  x = \"fantastic\"\n",
        "  print(\"Python is \" + x)\n",
        "\n",
        "myfunc()\n",
        "\n",
        "print(\"Python is \" + x)\n"
      ],
      "metadata": {
        "colab": {
          "base_uri": "https://localhost:8080/"
        },
        "id": "jmzHxLww9SsP",
        "outputId": "75487495-f652-49ab-9b44-52a8234014b5"
      },
      "execution_count": 13,
      "outputs": [
        {
          "output_type": "stream",
          "name": "stdout",
          "text": [
            "Python is fantastic\n",
            "Python is awesome\n"
          ]
        }
      ]
    },
    {
      "cell_type": "code",
      "source": [
        "#If we use the global keyword, the variable belongs to the global scope:\n",
        "\n",
        "def myfunc():\n",
        "  global x\n",
        "  x = \"fantastic\"\n",
        "\n",
        "myfunc()\n",
        "\n",
        "print(\"Python is \" + x)"
      ],
      "metadata": {
        "colab": {
          "base_uri": "https://localhost:8080/"
        },
        "id": "oZJnAsRe9fDb",
        "outputId": "af318ef9-f8cf-4073-bf43-1afb813cdf1b"
      },
      "execution_count": 14,
      "outputs": [
        {
          "output_type": "stream",
          "name": "stdout",
          "text": [
            "Python is fantastic\n"
          ]
        }
      ]
    },
    {
      "cell_type": "markdown",
      "source": [
        "## LOCAL VARIABLE\n",
        "If you create a variable with the same name inside a function, this variable will be local, and can only be used inside the function. The global variable with the same name will remain as it was, global and with the original value."
      ],
      "metadata": {
        "id": "2eXNu0ob912v"
      }
    },
    {
      "cell_type": "code",
      "source": [
        "#Create a variable inside a function, with the same name as the global variable\n",
        "\n",
        "x = \"awesome\"\n",
        "\n",
        "def myfunc():\n",
        "  x = \"fantastic\"\n",
        "  print(\"Python is \" + x)\n",
        "\n",
        "myfunc()\n",
        "\n",
        "print(\"Python is \" + x)"
      ],
      "metadata": {
        "colab": {
          "base_uri": "https://localhost:8080/"
        },
        "id": "wZvrazMv984m",
        "outputId": "9315317e-eeb1-4794-dfb8-c4d85dc449d5"
      },
      "execution_count": 15,
      "outputs": [
        {
          "output_type": "stream",
          "name": "stdout",
          "text": [
            "Python is fantastic\n",
            "Python is awesome\n"
          ]
        }
      ]
    },
    {
      "cell_type": "markdown",
      "source": [
        "# **DATA TYPES**\n",
        "In programming, data type is an important concept.\n",
        "\n",
        "Variables can store data of different types, and different types can do different things.\n",
        "\n",
        "Python has the following data types built-in by default, in these categories:\n",
        "\n",
        "Text Type:\t    str\n",
        "Numeric Types:\tint, float, complex\n",
        "Sequence Types:\tlist, tuple, range\n",
        "Mapping Type:\t  dict\n",
        "Set Types:\t    set, frozenset\n",
        "Boolean Type:\t  bool\n",
        "Binary Types:\t  bytes, bytearray, memoryview\n",
        "None Type:\t    NoneType"
      ],
      "metadata": {
        "id": "uBSO066i-Hf1"
      }
    },
    {
      "cell_type": "markdown",
      "source": [
        "## INTEGERS\n",
        "There are three numeric types in Python:\n",
        "\n",
        "int\n",
        "float\n",
        "complex\n",
        "Variables of numeric types are created when you assign a value to them:"
      ],
      "metadata": {
        "id": "uqcS_7IHD0x1"
      }
    },
    {
      "cell_type": "code",
      "source": [
        "# Print the data type of the variables:\n",
        "\n",
        "x = 5\n",
        "print(type(x))\n",
        "\n",
        "y = 'asad'\n",
        "print(type(y))\n",
        "\n",
        "z = 5.6\n",
        "print(type(z))\n",
        "\n",
        "d = 1+5j\n",
        "print(type(d))\n",
        "\n",
        "a = [\"apple\", \"banana\", \"cherry\"]\n",
        "print(type(a))\n",
        "\n",
        "b = {\"name\" : \"John\", \"age\" : 36}\n",
        "print(type(b))"
      ],
      "metadata": {
        "colab": {
          "base_uri": "https://localhost:8080/"
        },
        "id": "nKNDFprF-Pf1",
        "outputId": "e59ee332-8813-4c76-9cf9-162dbfb9a98e"
      },
      "execution_count": 21,
      "outputs": [
        {
          "output_type": "stream",
          "name": "stdout",
          "text": [
            "<class 'int'>\n",
            "<class 'str'>\n",
            "<class 'float'>\n",
            "<class 'complex'>\n",
            "<class 'list'>\n",
            "<class 'dict'>\n"
          ]
        }
      ]
    },
    {
      "cell_type": "code",
      "source": [
        "# Convert from one type to another:\n",
        "\n",
        "x = 1    # int\n",
        "y = 2.8  # float\n",
        "z = 1j   # complex\n",
        "\n",
        "#convert from int to float:\n",
        "a = float(x)\n",
        "\n",
        "#convert from float to int:\n",
        "b = int(y)\n",
        "\n",
        "#convert from int to complex:\n",
        "c = complex(x)\n",
        "\n",
        "print(a)\n",
        "print(b)\n",
        "print(c)\n",
        "\n",
        "print(type(a))\n",
        "print(type(b))\n",
        "print(type(c))"
      ],
      "metadata": {
        "colab": {
          "base_uri": "https://localhost:8080/"
        },
        "id": "AV37JxQR-lnd",
        "outputId": "73f98b74-e528-4e27-9bff-6ad88ec119e9"
      },
      "execution_count": 22,
      "outputs": [
        {
          "output_type": "stream",
          "name": "stdout",
          "text": [
            "1.0\n",
            "2\n",
            "(1+0j)\n",
            "<class 'float'>\n",
            "<class 'int'>\n",
            "<class 'complex'>\n"
          ]
        }
      ]
    },
    {
      "cell_type": "code",
      "source": [
        "x = float(1)     # x will be 1.0\n",
        "y = float(2.8)   # y will be 2.8\n",
        "z = float(\"3\")   # z will be 3.0\n",
        "w = float(\"4.2\") # w will be 4.2\n",
        "\n",
        "print(x , y , z , w)"
      ],
      "metadata": {
        "colab": {
          "base_uri": "https://localhost:8080/"
        },
        "id": "dX4iU29l_6Av",
        "outputId": "72ea32b9-27fe-4376-d4a0-76734a4b94a8"
      },
      "execution_count": 26,
      "outputs": [
        {
          "output_type": "stream",
          "name": "stdout",
          "text": [
            "1.0 2.8 3.0 4.2\n"
          ]
        }
      ]
    },
    {
      "cell_type": "code",
      "source": [
        "x = str(\"s1\") # x will be 's1'\n",
        "y = str(2)    # y will be '2'\n",
        "z = str(3.0)  # z will be '3.0'\n",
        "print(x , y , z )"
      ],
      "metadata": {
        "colab": {
          "base_uri": "https://localhost:8080/"
        },
        "id": "k7gXdIWgAGzA",
        "outputId": "f068575b-503e-4582-b6af-449a2e846a40"
      },
      "execution_count": 27,
      "outputs": [
        {
          "output_type": "stream",
          "name": "stdout",
          "text": [
            "s1 2 3.0\n"
          ]
        }
      ]
    },
    {
      "cell_type": "code",
      "source": [
        "#Import the random module, and display a random number between 1 and 9:\n",
        "\n",
        "import random\n",
        "\n",
        "print(random.randrange(1, 10))"
      ],
      "metadata": {
        "colab": {
          "base_uri": "https://localhost:8080/"
        },
        "id": "JNKF8P2f_vDI",
        "outputId": "609ebf18-a3f6-49e7-f999-cd45704d7872"
      },
      "execution_count": 23,
      "outputs": [
        {
          "output_type": "stream",
          "name": "stdout",
          "text": [
            "7\n"
          ]
        }
      ]
    },
    {
      "cell_type": "markdown",
      "source": [
        "## STRINGS\n",
        "Strings in python are surrounded by either single quotation marks, or double quotation marks.\n",
        "\n",
        "'hello' is the same as \"hello\".\n",
        "\n",
        "You can display a string literal with the print() function:"
      ],
      "metadata": {
        "id": "1ldnsiupEBhE"
      }
    },
    {
      "cell_type": "code",
      "source": [
        "# STRINGS\n",
        "\n",
        "# Get the character at position 1 (remember that the first character has the position 0):\n",
        "\n",
        "a = \"Hello, World!\"\n",
        "print(a[1])"
      ],
      "metadata": {
        "colab": {
          "base_uri": "https://localhost:8080/"
        },
        "id": "qo9dp1L6AbvG",
        "outputId": "a1c8058e-994c-47e9-bb37-7c2d67c75c6c"
      },
      "execution_count": 28,
      "outputs": [
        {
          "output_type": "stream",
          "name": "stdout",
          "text": [
            "e\n"
          ]
        }
      ]
    },
    {
      "cell_type": "code",
      "source": [
        "# Loop through the letters in the word \"banana\":\n",
        "\n",
        "for x in \"banana\":\n",
        "  print(x)"
      ],
      "metadata": {
        "colab": {
          "base_uri": "https://localhost:8080/"
        },
        "id": "MTxvuqpmArml",
        "outputId": "7ff33f0a-95ae-4f76-d6c3-36bcffa08343"
      },
      "execution_count": 29,
      "outputs": [
        {
          "output_type": "stream",
          "name": "stdout",
          "text": [
            "b\n",
            "a\n",
            "n\n",
            "a\n",
            "n\n",
            "a\n"
          ]
        }
      ]
    },
    {
      "cell_type": "code",
      "source": [
        "# The len() function returns the length of a string:\n",
        "\n",
        "a = \"Hello, World!\"\n",
        "print(len(a))"
      ],
      "metadata": {
        "colab": {
          "base_uri": "https://localhost:8080/"
        },
        "id": "0ntFz_nyAv8F",
        "outputId": "798ba009-2cda-4b0f-dc4b-2e92cdf8fe3c"
      },
      "execution_count": 30,
      "outputs": [
        {
          "output_type": "stream",
          "name": "stdout",
          "text": [
            "13\n"
          ]
        }
      ]
    },
    {
      "cell_type": "code",
      "source": [
        "# Check if \"free\" is present in the following text:\n",
        "\n",
        "txt = \"The best things in life are free!\"\n",
        "print(\"free\" in txt)"
      ],
      "metadata": {
        "colab": {
          "base_uri": "https://localhost:8080/"
        },
        "id": "6q45xmc2Azr0",
        "outputId": "fbcaaed8-ae2a-4525-f81c-4cbb6e5c9316"
      },
      "execution_count": 32,
      "outputs": [
        {
          "output_type": "stream",
          "name": "stdout",
          "text": [
            "True\n"
          ]
        }
      ]
    },
    {
      "cell_type": "code",
      "source": [
        "# print only if \"expensive\" is NOT present:\n",
        "\n",
        "txt = \"The best things in life are free!\"\n",
        "if \"expensive\" not in txt:\n",
        "  print(\"No, 'expensive' is NOT present.\")"
      ],
      "metadata": {
        "colab": {
          "base_uri": "https://localhost:8080/"
        },
        "id": "1WAGLRUlA7XT",
        "outputId": "274a8eac-5ddb-442b-af95-7b2570d9b557"
      },
      "execution_count": 33,
      "outputs": [
        {
          "output_type": "stream",
          "name": "stdout",
          "text": [
            "No, 'expensive' is NOT present.\n"
          ]
        }
      ]
    },
    {
      "cell_type": "code",
      "source": [
        "# SLICING\n",
        "# You can return a range of characters by using the slice syntax.\n",
        "# Specify the start index and the end index, separated by a colon, to return a part of the string.\n",
        "\n",
        "# Get the characters from position 2 to position 5 (not included):\n",
        "\n",
        "b = \"Hello, World!\"\n",
        "print(b[2:5])\n"
      ],
      "metadata": {
        "colab": {
          "base_uri": "https://localhost:8080/"
        },
        "id": "nrYyiPsdBCHc",
        "outputId": "5ad09de3-3334-4e89-d838-fd12fe3f6839"
      },
      "execution_count": 34,
      "outputs": [
        {
          "output_type": "stream",
          "name": "stdout",
          "text": [
            "llo\n"
          ]
        }
      ]
    },
    {
      "cell_type": "code",
      "source": [
        "# Get the characters from the start to position 5 (not included):\n",
        "\n",
        "b = \"Hello, World!\"\n",
        "print(b[:5])"
      ],
      "metadata": {
        "colab": {
          "base_uri": "https://localhost:8080/"
        },
        "id": "e7B6HlIwBYZc",
        "outputId": "6622f6b2-1dfb-492d-878c-17055e13f1c8"
      },
      "execution_count": 35,
      "outputs": [
        {
          "output_type": "stream",
          "name": "stdout",
          "text": [
            "Hello\n"
          ]
        }
      ]
    },
    {
      "cell_type": "code",
      "source": [
        "# Get the characters from position 2, and all the way to the end:\n",
        "\n",
        "b = \"Hello, World!\"\n",
        "print(b[2:])"
      ],
      "metadata": {
        "colab": {
          "base_uri": "https://localhost:8080/"
        },
        "id": "SzAEU49nBc7d",
        "outputId": "270afbee-8611-4f01-a722-ee3f5d2fe604"
      },
      "execution_count": 36,
      "outputs": [
        {
          "output_type": "stream",
          "name": "stdout",
          "text": [
            "llo, World!\n"
          ]
        }
      ]
    },
    {
      "cell_type": "code",
      "source": [
        "# MODIFY STRINGS\n",
        "\n",
        "# The upper() method returns the string in upper case:\n",
        "\n",
        "a = \"Hello, World!\"\n",
        "print(a.upper())"
      ],
      "metadata": {
        "colab": {
          "base_uri": "https://localhost:8080/"
        },
        "id": "VY4mKgcfBrwD",
        "outputId": "392079be-bae1-4cb6-c05d-15cd07e949f6"
      },
      "execution_count": 37,
      "outputs": [
        {
          "output_type": "stream",
          "name": "stdout",
          "text": [
            "HELLO, WORLD!\n"
          ]
        }
      ]
    },
    {
      "cell_type": "code",
      "source": [
        "# The lower() method returns the string in lower case:\n",
        "\n",
        "a = \"Hello, World!\"\n",
        "print(a.lower())"
      ],
      "metadata": {
        "colab": {
          "base_uri": "https://localhost:8080/"
        },
        "id": "TO1-erNVCDHR",
        "outputId": "f0904e73-7454-4b69-d17a-cf9ccd0e325f"
      },
      "execution_count": 38,
      "outputs": [
        {
          "output_type": "stream",
          "name": "stdout",
          "text": [
            "hello, world!\n"
          ]
        }
      ]
    },
    {
      "cell_type": "code",
      "source": [
        "# The strip() method removes any whitespace from the beginning or the end:\n",
        "\n",
        "a = \" Hello, World! \"\n",
        "print(a.strip()) "
      ],
      "metadata": {
        "colab": {
          "base_uri": "https://localhost:8080/"
        },
        "id": "Eqm8YX-lCJqq",
        "outputId": "99c7273e-e36c-4ca1-8c6a-df10a50e0422"
      },
      "execution_count": 39,
      "outputs": [
        {
          "output_type": "stream",
          "name": "stdout",
          "text": [
            "Hello, World!\n"
          ]
        }
      ]
    },
    {
      "cell_type": "code",
      "source": [
        "# The split() method splits the string into substrings if it finds instances of the separator:\n",
        "\n",
        "a = \"Hello, World!\"\n",
        "print(a.split(\",\")) # returns ['Hello', ' World!']"
      ],
      "metadata": {
        "colab": {
          "base_uri": "https://localhost:8080/"
        },
        "id": "ea_L5H3gCMZR",
        "outputId": "632bf3e8-943b-49d6-d9b4-fb9f1d5c76f1"
      },
      "execution_count": 40,
      "outputs": [
        {
          "output_type": "stream",
          "name": "stdout",
          "text": [
            "['Hello', ' World!']\n"
          ]
        }
      ]
    },
    {
      "cell_type": "code",
      "source": [
        "# String Concatenation\n",
        "# To concatenate, or combine, two strings you can use the + operator.\n",
        "\n",
        "# Merge variable a with variable b into variable c:\n",
        "\n",
        "a = \"Hello\"\n",
        "b = \" World\"\n",
        "c = a + b\n",
        "print(c)"
      ],
      "metadata": {
        "colab": {
          "base_uri": "https://localhost:8080/"
        },
        "id": "I2s4O_dxCYxJ",
        "outputId": "910f1793-22f3-4bb1-fae3-4ce5edd5a5ed"
      },
      "execution_count": 42,
      "outputs": [
        {
          "output_type": "stream",
          "name": "stdout",
          "text": [
            "Hello World\n"
          ]
        }
      ]
    },
    {
      "cell_type": "code",
      "source": [
        "# String Format\n",
        "# Use the format() method to insert numbers into strings:\n",
        "age = 36\n",
        "txt = \"My name is John, and I am {}\"\n",
        "print(txt.format(age))"
      ],
      "metadata": {
        "colab": {
          "base_uri": "https://localhost:8080/"
        },
        "id": "4V651UNrDCaX",
        "outputId": "12f3c7b6-0587-40e0-c211-f96f28afb374"
      },
      "execution_count": 43,
      "outputs": [
        {
          "output_type": "stream",
          "name": "stdout",
          "text": [
            "My name is John, and I am 36\n"
          ]
        }
      ]
    },
    {
      "cell_type": "code",
      "source": [
        "quantity = 3\n",
        "itemno = 567\n",
        "price = 49.95\n",
        "myorder = \"I want {} pieces of item {} for {} dollars.\"\n",
        "print(myorder.format(quantity, itemno, price))"
      ],
      "metadata": {
        "colab": {
          "base_uri": "https://localhost:8080/"
        },
        "id": "RqrxTIASDK7-",
        "outputId": "be29200e-77fd-40be-b2ef-68f5775a4f44"
      },
      "execution_count": 46,
      "outputs": [
        {
          "output_type": "stream",
          "name": "stdout",
          "text": [
            "I want 3 pieces of item 567 for 49.95 dollars.\n"
          ]
        }
      ]
    },
    {
      "cell_type": "markdown",
      "source": [
        "## BOOLEAN\n",
        "In programming you often need to know if an expression is True or False.\n",
        "\n",
        "You can evaluate any expression in Python, and get one of two answers, True or False.\n",
        "\n",
        "When you compare two values, the expression is evaluated and Python returns the Boolean answer:"
      ],
      "metadata": {
        "id": "woa7DlFXEMWc"
      }
    },
    {
      "cell_type": "code",
      "source": [
        "print(10 > 9)\n",
        "print(10 == 9)\n",
        "print(10 < 9)"
      ],
      "metadata": {
        "colab": {
          "base_uri": "https://localhost:8080/"
        },
        "id": "2jtvkaWcEVAD",
        "outputId": "3d2d7079-0dd9-4e4a-df88-1db347ec593f"
      },
      "execution_count": 45,
      "outputs": [
        {
          "output_type": "stream",
          "name": "stdout",
          "text": [
            "True\n",
            "False\n",
            "False\n"
          ]
        }
      ]
    },
    {
      "cell_type": "code",
      "source": [
        "# rint a message based on whether the condition is True or False:\n",
        "\n",
        "a = 200\n",
        "b = 33\n",
        "\n",
        "if b > a:\n",
        "  print(\"b is greater than a\")\n",
        "else:\n",
        "  print(\"b is not greater than a\")\n"
      ],
      "metadata": {
        "colab": {
          "base_uri": "https://localhost:8080/"
        },
        "id": "_Fi9Ue5sEZ97",
        "outputId": "aae6337d-8343-4fe6-8dc2-bca9ca8742af"
      },
      "execution_count": 47,
      "outputs": [
        {
          "output_type": "stream",
          "name": "stdout",
          "text": [
            "b is not greater than a\n"
          ]
        }
      ]
    },
    {
      "cell_type": "code",
      "source": [
        "# Evaluate a string and a number:\n",
        "\n",
        "print(bool(\"Hello\"))\n",
        "print(bool(15))"
      ],
      "metadata": {
        "colab": {
          "base_uri": "https://localhost:8080/"
        },
        "id": "27LIQFcHEepL",
        "outputId": "e825dd08-3021-4e11-ad4d-ca0a0efd8334"
      },
      "execution_count": 48,
      "outputs": [
        {
          "output_type": "stream",
          "name": "stdout",
          "text": [
            "True\n",
            "True\n"
          ]
        }
      ]
    },
    {
      "cell_type": "code",
      "source": [
        "# The following will return False:\n",
        "\n",
        "bool(False)\n",
        "bool(None)\n",
        "bool(0)\n",
        "bool(\"\")\n",
        "bool(())\n",
        "bool([])\n",
        "bool({})"
      ],
      "metadata": {
        "colab": {
          "base_uri": "https://localhost:8080/"
        },
        "id": "wmqRRoPsEtt6",
        "outputId": "44a508c1-09d3-49c7-bd0e-6644687a7c55"
      },
      "execution_count": 49,
      "outputs": [
        {
          "output_type": "execute_result",
          "data": {
            "text/plain": [
              "False"
            ]
          },
          "metadata": {},
          "execution_count": 49
        }
      ]
    },
    {
      "cell_type": "markdown",
      "source": [
        "#OPERATORS\n",
        "Operators are used to perform operations on variables and values."
      ],
      "metadata": {
        "id": "GAWh2OCbFHHJ"
      }
    },
    {
      "cell_type": "code",
      "source": [
        "print(10 + 5)"
      ],
      "metadata": {
        "colab": {
          "base_uri": "https://localhost:8080/"
        },
        "id": "DZEKH1WfE3cZ",
        "outputId": "89a0b6a6-ddf1-4629-b728-a418b12f956a"
      },
      "execution_count": 50,
      "outputs": [
        {
          "output_type": "stream",
          "name": "stdout",
          "text": [
            "15\n"
          ]
        }
      ]
    },
    {
      "cell_type": "code",
      "source": [
        "# Parentheses has the highest precedence, meaning that expressions inside parentheses must be evaluated first:\n",
        "\n",
        "print((6 + 3) - (6 + 3))"
      ],
      "metadata": {
        "colab": {
          "base_uri": "https://localhost:8080/"
        },
        "id": "Pup5XNk5FViP",
        "outputId": "b1d2fab8-79c0-44b1-bcda-7e9974cfa879"
      },
      "execution_count": 51,
      "outputs": [
        {
          "output_type": "stream",
          "name": "stdout",
          "text": [
            "0\n"
          ]
        }
      ]
    },
    {
      "cell_type": "code",
      "source": [
        "# Multiplication * has higher precedence than addition +, and therefor multiplications are evaluated before additions:\n",
        "\n",
        "print(100 + 5 * 3)"
      ],
      "metadata": {
        "colab": {
          "base_uri": "https://localhost:8080/"
        },
        "id": "pc5VhOrlFfN-",
        "outputId": "53ee3a29-3188-454c-c90d-d76d89b07494"
      },
      "execution_count": 52,
      "outputs": [
        {
          "output_type": "stream",
          "name": "stdout",
          "text": [
            "115\n"
          ]
        }
      ]
    },
    {
      "cell_type": "code",
      "source": [
        "# Addition + and subtraction - has the same precedence, and therefor we evaluate the expression from left to right:\n",
        "\n",
        "print(5 + 4 - 7 + 3)"
      ],
      "metadata": {
        "colab": {
          "base_uri": "https://localhost:8080/"
        },
        "id": "o-IcPcN3Fm9-",
        "outputId": "0c63be1f-f3d3-435c-9b8c-8d5eca996f76"
      },
      "execution_count": 53,
      "outputs": [
        {
          "output_type": "stream",
          "name": "stdout",
          "text": [
            "5\n"
          ]
        }
      ]
    }
  ]
}