{
 "cells": [
  {
   "attachments": {},
   "cell_type": "markdown",
   "metadata": {},
   "source": [
    "## Program #1 - Person\n",
    "\n",
    "Use a dictionary to store information about a person you know. Store their first name, last name, age, and the city in which they live. You should have keys such as first_name, last_name, age, and city. Print each piece of information stored in your dictionary."
   ]
  },
  {
   "cell_type": "code",
   "execution_count": 2,
   "metadata": {},
   "outputs": [
    {
     "name": "stdout",
     "output_type": "stream",
     "text": [
      "First name: Bruce\n",
      "Last name: Wayne\n",
      "Age: 47\n",
      "City: Gotham\n"
     ]
    }
   ],
   "source": [
    "person = {\n",
    "    \"first_name\": \"Bruce\",\n",
    "    \"last_name\": \"Wayne\",\n",
    "    \"age\": 47,\n",
    "    \"city\": \"Gotham\"\n",
    "}\n",
    "\n",
    "print(\"First name:\", person[\"first_name\"])\n",
    "print(\"Last name:\", person[\"last_name\"])\n",
    "print(\"Age:\", person[\"age\"])\n",
    "print(\"City:\", person[\"city\"])"
   ]
  },
  {
   "attachments": {},
   "cell_type": "markdown",
   "metadata": {},
   "source": [
    "## Program #2 - Favourite Number\n",
    "\n",
    "Use a dictionary to store people’s favorite numbers. Think of five names, and use them as keys in your dictionary. Think of a favorite number for each person, and store each as a value in your dictionary. Print each person’s name and their favorite number. For even more fun, poll a few friends and get some actual data for your program."
   ]
  },
  {
   "cell_type": "code",
   "execution_count": 7,
   "metadata": {},
   "outputs": [
    {
     "name": "stdout",
     "output_type": "stream",
     "text": [
      "Ali: 7.\n",
      "Zara: 42.\n",
      "Hamid: 13.\n",
      "Zainab: 22.\n",
      "Samreen: 9.\n"
     ]
    }
   ],
   "source": [
    "# Create a dictionary with people's favorite numbers\n",
    "favorite_numbers = {\n",
    "    \"Ali\": 7,\n",
    "    \"Zara\": 42,\n",
    "    \"Hamid\": 13,\n",
    "    \"Zainab\": 22,\n",
    "    \"Samreen\": 9\n",
    "}\n",
    "\n",
    "print(f\"Ali: {favorite_numbers['Ali']}.\")\n",
    "print(f\"Zara: {favorite_numbers['Zara']}.\")\n",
    "print(f\"Hamid: {favorite_numbers['Hamid']}.\")\n",
    "print(f\"Zainab: {favorite_numbers['Zainab']}.\")\n",
    "print(f\"Samreen: {favorite_numbers['Samreen']}.\")"
   ]
  },
  {
   "attachments": {},
   "cell_type": "markdown",
   "metadata": {},
   "source": [
    "## Program #3 - Glossary\n",
    "\n",
    "A Python dictionary can be used to model an actual dictionary. However, to avoid confusion, let’s call it a glossary.\n",
    "\n",
    "+ Think of five programming words you’ve learned about in the previous chapters. Use these words as the keys in your glossary, and store their meanings as values.\n",
    "+ Print each word and its meaning as neatly formatted output. You might print the word followed by a colon and then its meaning, or print the word on one line and then print its meaning indented on a second line. Use the newline character (\\n) to insert a blank line between each word-meaning pair in your output."
   ]
  },
  {
   "cell_type": "code",
   "execution_count": 6,
   "metadata": {},
   "outputs": [
    {
     "name": "stdout",
     "output_type": "stream",
     "text": [
      "Variable: a named storage location in memory that can hold a value.\n",
      "\n",
      "List: a collection of items.\n",
      "\n",
      "Set: a unique, ordered collection of items.\n",
      "\n",
      "Repository: a place to store something (project files in our case).\n",
      "\n",
      "Loop: a programming construct that repeats a block of code while a condition is true.\n",
      "\n"
     ]
    }
   ],
   "source": [
    "# Create a glossary dictionary with programming words and their meanings\n",
    "glossary = {\n",
    "    \"variable\": \"a named storage location in memory that can hold a value\",\n",
    "    \"list\": \"a collection of items\",\n",
    "    \"set\": \"a unique, ordered collection of items\",\n",
    "    \"repository\": \"a place to store something (project files in our case)\",\n",
    "    \"loop\": \"a programming construct that repeats a block of code while a condition is true\"\n",
    "}\n",
    "\n",
    "print(f\"Variable: {glossary['variable']}.\\n\")\n",
    "print(f\"List: {glossary['list']}.\\n\")\n",
    "print(f\"Set: {glossary['set']}.\\n\")\n",
    "print(f\"Repository: {glossary['repository']}.\\n\")\n",
    "print(f\"Loop: {glossary['loop']}.\\n\")"
   ]
  },
  {
   "attachments": {},
   "cell_type": "markdown",
   "metadata": {},
   "source": [
    "## Program #4 - Glossary-2\n",
    "\n",
    "Now that you know how to loop through a dictionary, clean up the code from Exercise 6-3 (page 102) by replacing your series of print statements with a loop that runs through the dictionary’s keys and values. When you’re sure that your loop works, add five more Python terms to your glossary. When you run your program again, these new words and meanings should automatically be included in the output."
   ]
  },
  {
   "cell_type": "code",
   "execution_count": 5,
   "metadata": {},
   "outputs": [
    {
     "name": "stdout",
     "output_type": "stream",
     "text": [
      "Variable: a named storage location in memory that can hold a value.\n",
      "\n",
      "List: a collection of items.\n",
      "\n",
      "Set: a unique, ordered collection of items.\n",
      "\n",
      "Repository: a place to store something (project files in our case).\n",
      "\n",
      "Loop: a programming construct that repeats a block of code while a condition is true.\n",
      "\n",
      "Git: a version control system for tracking changes in files.\n",
      "\n",
      "Remote repo: a git repository that is hosted on a remote server.\n",
      "\n",
      "Input: a function that allows a user to enter data into a program.\n",
      "\n",
      "Conditional: a statement that executes different code based on whether a condition is true or false.\n",
      "\n",
      "Tuple: an ordered collection of elements, which can be of different types.\n",
      "\n"
     ]
    }
   ],
   "source": [
    "# Create a glossary dictionary with programming words and their meanings\n",
    "glossary = {\n",
    "    \"variable\": \"a named storage location in memory that can hold a value\",\n",
    "    \"list\": \"a collection of items\",\n",
    "    \"set\": \"a unique, ordered collection of items\",\n",
    "    \"Repository\": \"a place to store something (project files in our case)\",\n",
    "    \"loop\": \"a programming construct that repeats a block of code while a condition is true\",\n",
    "    \"git\": \"a version control system for tracking changes in files\",\n",
    "    \"remote repo\": \"a git repository that is hosted on a remote server\",\n",
    "    \"input\": \"a function that allows a user to enter data into a program\",\n",
    "    \"conditional\": \"a statement that executes different code based on whether a condition is true or false\",\n",
    "    \"tuple\": \"an ordered collection of elements, which can be of different types\"\n",
    "}\n",
    "\n",
    "# Print each programming word and its meaning using a loop\n",
    "for word, meaning in glossary.items():\n",
    "    print(f\"{word.capitalize()}: {meaning}.\\n\")"
   ]
  },
  {
   "attachments": {},
   "cell_type": "markdown",
   "metadata": {},
   "source": [
    "## Program #5 - Rivers\n",
    "\n",
    "Make a dictionary containing three major rivers and the country each river runs through. One key-value pair might be 'nile': 'egypt'.\n",
    "\n",
    "+ Use a loop to print a sentence about each river, such as The Nile runs\n",
    "through Egypt.\n",
    "+ Use a loop to print the name of each river included in the dictionary.\n",
    "+ Use a loop to print the name of each country included in the dictionary."
   ]
  },
  {
   "cell_type": "code",
   "execution_count": 11,
   "metadata": {},
   "outputs": [
    {
     "name": "stdout",
     "output_type": "stream",
     "text": [
      "The Nile runs through Egypt.\n",
      "The Amazon runs through Brazil.\n",
      "The Yangtze runs through China.\n",
      "\n",
      "Rivers:\n",
      "Nile\n",
      "Amazon\n",
      "Yangtze\n",
      "\n",
      "Countries:\n",
      "Brazil\n",
      "Egypt\n",
      "China\n"
     ]
    }
   ],
   "source": [
    "# Create a dictionary of major rivers and the countries they run through\n",
    "rivers = {\n",
    "    \"Nile\": \"Egypt\",\n",
    "    \"Amazon\": \"Brazil\",\n",
    "    \"Yangtze\": \"China\"\n",
    "}\n",
    "\n",
    "# Print a sentence about each river\n",
    "for river, country in rivers.items():\n",
    "    print(f\"The {river} runs through {country}.\")\n",
    "\n",
    "print(\"\\nRivers:\")\n",
    "for river in rivers.keys():\n",
    "    print(river)\n",
    "\n",
    "print(\"\\nCountries:\")\n",
    "for country in set(rivers.values()):\n",
    "    print(country)"
   ]
  },
  {
   "attachments": {},
   "cell_type": "markdown",
   "metadata": {},
   "source": [
    "## Program #6 - Polling\n",
    "\n",
    "Make a list of people who should take the favorite languages poll. Include some names that are already in the dictionary and some that are not.\n",
    "\n",
    "+ Loop through the list of people who should take the poll. If they have already taken the poll, print a message thanking them for responding.\n",
    "+ If they have not yet taken the poll, print a message inviting them to take the poll."
   ]
  },
  {
   "cell_type": "code",
   "execution_count": 13,
   "metadata": {},
   "outputs": [
    {
     "name": "stdout",
     "output_type": "stream",
     "text": [
      "Thank you, Ahmed, for taking the poll!\n",
      "Thank you, Ali, for taking the poll!\n",
      "Zainab, what's your favorite programming language?\n",
      "Faiza, what's your favorite programming language?\n",
      "Thank you, Hamza, for taking the poll!\n"
     ]
    }
   ],
   "source": [
    "favorite_languages = {\n",
    "    'ahmed': 'python',\n",
    "    'ali': 'c',\n",
    "    'hamza': 'ruby',\n",
    "    'fatima': 'python',\n",
    "}\n",
    "\n",
    "people_to_poll = ['ahmed', 'ali', 'zainab', 'faiza', 'hamza']\n",
    "\n",
    "for name in people_to_poll:\n",
    "    if name in favorite_languages:\n",
    "        print(f\"Thank you, {name.title()}, for taking the poll!\")\n",
    "    else:\n",
    "        print(f\"{name.title()}, what's your favorite programming language?\")\n"
   ]
  },
  {
   "attachments": {},
   "cell_type": "markdown",
   "metadata": {},
   "source": [
    "## Program #7 - People-2\n",
    "\n",
    "Make two new dictionaries representing different people, and store all three dictionaries in a list called people. Loop through your list of people. As you loop through the list, print everything you know about each person."
   ]
  },
  {
   "cell_type": "code",
   "execution_count": 15,
   "metadata": {},
   "outputs": [
    {
     "name": "stdout",
     "output_type": "stream",
     "text": [
      "First name: Baqir\n",
      "Last name: Ali\n",
      "Age: 47\n",
      "City: Lahore\n",
      "\n",
      "First name: Muhammad\n",
      "Last name: Ali\n",
      "Age: 25\n",
      "City: Islamabad\n",
      "\n",
      "First name: Fatima\n",
      "Last name: Azam\n",
      "Age: 35\n",
      "City: Karachi\n",
      "\n"
     ]
    }
   ],
   "source": [
    "person1 = {\n",
    "    \"first_name\": \"Baqir\",\n",
    "    \"last_name\": \"Ali\",\n",
    "    \"age\": 47,\n",
    "    \"city\": \"Lahore\"\n",
    "}\n",
    "\n",
    "person2 = {\n",
    "    \"first_name\": \"Muhammad\",\n",
    "    \"last_name\": \"Ali\",\n",
    "    \"age\": 25,\n",
    "    \"city\": \"Islamabad\"\n",
    "}\n",
    "\n",
    "person3 = {\n",
    "    \"first_name\": \"Fatima\",\n",
    "    \"last_name\": \"Azam\",\n",
    "    \"age\": 35,\n",
    "    \"city\": \"Karachi\"\n",
    "}\n",
    "\n",
    "people = [person1, person2, person3]\n",
    "\n",
    "for person in people:\n",
    "    print(\"First name:\", person[\"first_name\"])\n",
    "    print(\"Last name:\", person[\"last_name\"])\n",
    "    print(\"Age:\", person[\"age\"])\n",
    "    print(\"City:\", person[\"city\"])\n",
    "    print()\n"
   ]
  },
  {
   "attachments": {},
   "cell_type": "markdown",
   "metadata": {},
   "source": [
    "## Program #8 - Pets\n",
    "\n",
    "Make several dictionaries, where the name of each dictionary is the name of a pet. In each dictionary, include the kind of animal and the owner’s name. Store these dictionaries in a list called pets. Next, loop through your list and as you do print everything you know about each pet."
   ]
  },
  {
   "cell_type": "code",
   "execution_count": 16,
   "metadata": {},
   "outputs": [
    {
     "name": "stdout",
     "output_type": "stream",
     "text": [
      "Name: Fluffy\n",
      "Animal: cat\n",
      "Owner: Ali\n",
      "\n",
      "Name: Max\n",
      "Animal: dog\n",
      "Owner: Ahmed\n",
      "\n",
      "Name: Ginger\n",
      "Animal: hamster\n",
      "Owner: Fatima\n",
      "\n"
     ]
    }
   ],
   "source": [
    "pet1 = {\n",
    "    \"name\": \"Fluffy\",\n",
    "    \"animal\": \"cat\",\n",
    "    \"owner\": \"Ali\"\n",
    "}\n",
    "\n",
    "pet2 = {\n",
    "    \"name\": \"Max\",\n",
    "    \"animal\": \"dog\",\n",
    "    \"owner\": \"Ahmed\"\n",
    "}\n",
    "\n",
    "pet3 = {\n",
    "    \"name\": \"Ginger\",\n",
    "    \"animal\": \"hamster\",\n",
    "    \"owner\": \"Fatima\"\n",
    "}\n",
    "\n",
    "pets = [pet1, pet2, pet3]\n",
    "\n",
    "for pet in pets:\n",
    "    print(\"Name:\", pet[\"name\"])\n",
    "    print(\"Animal:\", pet[\"animal\"])\n",
    "    print(\"Owner:\", pet[\"owner\"])\n",
    "    print()\n"
   ]
  },
  {
   "attachments": {},
   "cell_type": "markdown",
   "metadata": {},
   "source": [
    "## Program #9 - Favourite Places\n",
    "\n",
    "Make a dictionary called favorite_places. Think of three names to use as keys in the dictionary, and store one to three favorite places for each person. To make this exercise a bit more interesting, ask some friends to name a few of their favorite places. Loop through the dictionary, and print each person’s name and their favorite places."
   ]
  },
  {
   "cell_type": "code",
   "execution_count": 17,
   "metadata": {},
   "outputs": [
    {
     "name": "stdout",
     "output_type": "stream",
     "text": [
      "Ali's favorite places are:\n",
      "- Lahore Fort\n",
      "- Badshahi Mosque\n",
      "\n",
      "Fatima's favorite places are:\n",
      "- Northern Areas\n",
      "- Hingol National Park\n",
      "\n",
      "Hassan's favorite places are:\n",
      "- Rohtas Fort\n",
      "- Murree\n",
      "\n",
      "Ayesha's favorite places are:\n",
      "- Mazar-e-Quaid\n",
      "- Seaview Beach\n",
      "\n",
      "Saad's favorite places are:\n",
      "- Faisal Mosque\n",
      "- Ayubia\n",
      "\n"
     ]
    }
   ],
   "source": [
    "favorite_places = {\n",
    "\"Ali\": [\"Lahore Fort\", \"Badshahi Mosque\"],\n",
    "\"Fatima\": [\"Northern Areas\", \"Hingol National Park\"],\n",
    "\"Hassan\": [\"Rohtas Fort\", \"Murree\"],\n",
    "\"Ayesha\": [\"Mazar-e-Quaid\", \"Seaview Beach\"],\n",
    "\"Saad\": [\"Faisal Mosque\", \"Ayubia\"]\n",
    "}\n",
    "\n",
    "for name, places in favorite_places.items():\n",
    "    print(f\"{name}'s favorite places are:\")\n",
    "    for place in places:\n",
    "        print(\"- \" + place)\n",
    "    print()"
   ]
  },
  {
   "attachments": {},
   "cell_type": "markdown",
   "metadata": {},
   "source": [
    "## Program #10 - Favourite Person #2\n",
    "\n",
    "Modify your program from Exercise 6-2 (page 102) so each person can have more than one favorite number. Then print each person’s\n",
    "name along with their favorite numbers."
   ]
  },
  {
   "cell_type": "code",
   "execution_count": 24,
   "metadata": {},
   "outputs": [
    {
     "name": "stdout",
     "output_type": "stream",
     "text": [
      "Ali:\n",
      "7 15 23 \n",
      "Zara:\n",
      "42 11 \n",
      "Hamid:\n",
      "13 9 27 \n",
      "Zainab:\n",
      "22 \n",
      "Samreen:\n",
      "9 31 \n"
     ]
    }
   ],
   "source": [
    "favorite_numbers = {\n",
    "\"Ali\": [7, 15, 23],\n",
    "\"Zara\": [42, 11],\n",
    "\"Hamid\": [13, 9, 27],\n",
    "\"Zainab\": [22],\n",
    "\"Samreen\": [9, 31]\n",
    "}\n",
    "\n",
    "for name, numbers in favorite_numbers.items():\n",
    "    print(f\"{name}:\")\n",
    "    for number in numbers:\n",
    "        print(f\"{number}\", end=' ')\n",
    "    print()"
   ]
  },
  {
   "attachments": {},
   "cell_type": "markdown",
   "metadata": {},
   "source": [
    "## Program #11 - Cities\n",
    "\n",
    "Make a dictionary called cities. Use the names of three cities as keys in your dictionary. Create a dictionary of information about each city and include the country that the city is in, its approximate population, and one fact about that city. The keys for each city’s dictionary should be something like country, population, and fact. Print the name of each city and all of the information you have stored about it."
   ]
  },
  {
   "cell_type": "code",
   "execution_count": 25,
   "metadata": {},
   "outputs": [
    {
     "name": "stdout",
     "output_type": "stream",
     "text": [
      "\n",
      "City: Lahore\n",
      "Country: Pakistan\n",
      "Population: 11.13 million\n",
      "Fact: Lahore is known as the cultural capital of Pakistan.\n",
      "\n",
      "City: Istanbul\n",
      "Country: Turkey\n",
      "Population: 15.52 million\n",
      "Fact: Istanbul is the only city in the world located on two continents.\n",
      "\n",
      "City: Rio de Janeiro\n",
      "Country: Brazil\n",
      "Population: 6.72 million\n",
      "Fact: Rio de Janeiro is famous for its carnival festival.\n"
     ]
    }
   ],
   "source": [
    "cities = {\n",
    "    'Lahore': {\n",
    "        'country': 'Pakistan',\n",
    "        'population': '11.13 million',\n",
    "        'fact': 'Lahore is known as the cultural capital of Pakistan.'\n",
    "    },\n",
    "    'Istanbul': {\n",
    "        'country': 'Turkey',\n",
    "        'population': '15.52 million',\n",
    "        'fact': 'Istanbul is the only city in the world located on two continents.'\n",
    "    },\n",
    "    'Rio de Janeiro': {\n",
    "        'country': 'Brazil',\n",
    "        'population': '6.72 million',\n",
    "        'fact': 'Rio de Janeiro is famous for its carnival festival.'\n",
    "    },\n",
    "}\n",
    "\n",
    "# Print the information about each city\n",
    "for city, info in cities.items():\n",
    "    print(f\"\\nCity: {city}\")\n",
    "    print(f\"Country: {info['country']}\")\n",
    "    print(f\"Population: {info['population']}\")\n",
    "    print(f\"Fact: {info['fact']}\")"
   ]
  },
  {
   "attachments": {},
   "cell_type": "markdown",
   "metadata": {},
   "source": [
    "## Program #12 - Extensions\n",
    "\n",
    "We’re now working with examples that are complex enough that they can be extended in any number of ways. Use one of the example programs from this chapter, and extend it by adding new keys and values, changing the context of the program or improving the formatting of the output."
   ]
  },
  {
   "cell_type": "code",
   "execution_count": 26,
   "metadata": {},
   "outputs": [
    {
     "name": "stdout",
     "output_type": "stream",
     "text": [
      "\n",
      "Username: aali\n",
      "\tFull name: Ali Ahmed\n",
      "\tLocation: Lahore\n",
      "\tAge: 30\n",
      "\tOccupation: Engineer\n",
      "\n",
      "Username: hnaz\n",
      "\tFull name: Hina Nazir\n",
      "\tLocation: Islamabad\n",
      "\tAge: 25\n",
      "\tOccupation: Doctor\n"
     ]
    }
   ],
   "source": [
    "users = {\n",
    "    'aali': {\n",
    "        'first': 'Ali',\n",
    "        'last': 'Ahmed',\n",
    "        'location': 'Lahore',\n",
    "        'age': 30,\n",
    "        'occupation': 'Engineer'\n",
    "    },\n",
    "\n",
    "    'hnaz': {\n",
    "        'first': 'Hina',\n",
    "        'last': 'Nazir',\n",
    "        'location': 'Islamabad',\n",
    "        'age': 25,\n",
    "        'occupation': 'Doctor'\n",
    "    },\n",
    "}\n",
    "\n",
    "for username, user_info in users.items():\n",
    "    print(\"\\nUsername: \" + username)\n",
    "    full_name = user_info['first'] + \" \" + user_info['last']\n",
    "    location = user_info['location']\n",
    "    age = user_info['age']\n",
    "    occupation = user_info['occupation']\n",
    "    print(\"\\tFull name: \" + full_name.title())\n",
    "    print(\"\\tLocation: \" + location.title())\n",
    "    print(\"\\tAge: \" + str(age))\n",
    "    print(\"\\tOccupation: \" + occupation.title())\n"
   ]
  }
 ],
 "metadata": {
  "kernelspec": {
   "display_name": "Python 3",
   "language": "python",
   "name": "python3"
  },
  "language_info": {
   "codemirror_mode": {
    "name": "ipython",
    "version": 3
   },
   "file_extension": ".py",
   "mimetype": "text/x-python",
   "name": "python",
   "nbconvert_exporter": "python",
   "pygments_lexer": "ipython3",
   "version": "3.9.0"
  },
  "orig_nbformat": 4
 },
 "nbformat": 4,
 "nbformat_minor": 2
}
