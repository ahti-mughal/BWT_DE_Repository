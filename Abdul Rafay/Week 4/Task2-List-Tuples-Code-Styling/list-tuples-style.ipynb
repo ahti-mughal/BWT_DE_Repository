{
 "cells": [
  {
   "attachments": {},
   "cell_type": "markdown",
   "metadata": {},
   "source": [
    "## Program #1 - Names\n",
    "\n",
    "Store the names of a few of your friends in a list called names. Print each person’s name by accessing each element in the list, one at a time."
   ]
  },
  {
   "cell_type": "code",
   "execution_count": 1,
   "metadata": {},
   "outputs": [
    {
     "name": "stdout",
     "output_type": "stream",
     "text": [
      "I\n",
      "have\n",
      "no\n",
      "friends\n",
      ":(\n"
     ]
    }
   ],
   "source": [
    "friends = [\"I\", \"have\", \"no\", \"friends\", \":(\"]\n",
    "\n",
    "print(friends[0])\n",
    "print(friends[1])\n",
    "print(friends[2])\n",
    "print(friends[3])\n",
    "print(friends[4])"
   ]
  },
  {
   "attachments": {},
   "cell_type": "markdown",
   "metadata": {},
   "source": [
    "## Program #2 - Greetings\n",
    "\n",
    "Start with the list you used in Exercise 3-1, but instead of just printing each person’s name, print a message to them. The text of each message should be the same, but each message should be personalized with the person’s name."
   ]
  },
  {
   "cell_type": "code",
   "execution_count": 2,
   "metadata": {},
   "outputs": [
    {
     "name": "stdout",
     "output_type": "stream",
     "text": [
      "I - There\n",
      "have - is\n",
      "no - nothing\n",
      "friends - to\n",
      ":( - say!\n"
     ]
    }
   ],
   "source": [
    "friends = [\"I\", \"have\", \"no\", \"friends\", \":(\"]\n",
    "\n",
    "print(friends[0] + \" - There\")\n",
    "print(friends[1] + \" - is\")\n",
    "print(friends[2] + \" - nothing\")\n",
    "print(friends[3] + \" - to\")\n",
    "print(friends[4] + \" - say!\")"
   ]
  },
  {
   "attachments": {},
   "cell_type": "markdown",
   "metadata": {},
   "source": [
    "## Program #3 - Your Own List\n",
    "\n",
    "Think of your favorite mode of transportation, such as a motorcycle or a car, and make a list that stores several examples. Use your list to print a series of statements about these items, such as “I would like to own a Honda motorcycle.”"
   ]
  },
  {
   "cell_type": "code",
   "execution_count": 8,
   "metadata": {},
   "outputs": [
    {
     "name": "stdout",
     "output_type": "stream",
     "text": [
      "Legs - I like silent walks...\n",
      "Bicycle - A little bit of PE...\n",
      "Car - Staring through the window...\n"
     ]
    }
   ],
   "source": [
    "transport = [\"Legs\", \"Bicycle\", \"Car\"]\n",
    "\n",
    "print(transport[0] + \" - I like silent walks...\")\n",
    "print(transport[1] + \" - A little bit of PE...\")\n",
    "print(transport[2] + \" - Staring through the window...\")"
   ]
  },
  {
   "attachments": {},
   "cell_type": "markdown",
   "metadata": {},
   "source": [
    "## Program #4 - Guest List\n",
    "\n",
    "If you could invite anyone, living or deceased, to dinner, who would you invite? Make a list that includes at least three people you’d like to invite to dinner. Then use your list to print a message to each person, inviting them to dinner."
   ]
  },
  {
   "cell_type": "code",
   "execution_count": 10,
   "metadata": {},
   "outputs": [
    {
     "name": "stdout",
     "output_type": "stream",
     "text": [
      "They - I\n",
      "dont - already\n",
      "want - know\n",
      "to - they will\n",
      "come - refuse\n"
     ]
    }
   ],
   "source": [
    "invite = [\"They\", \"dont\", \"want\", \"to\", \"come\"]\n",
    "\n",
    "print(invite[0] + \" - I\")\n",
    "print(invite[1] + \" - already\")\n",
    "print(invite[2] + \" - know\")\n",
    "print(invite[3] + \" - they will\")\n",
    "print(invite[4] + \" - refuse\")"
   ]
  },
  {
   "attachments": {},
   "cell_type": "markdown",
   "metadata": {},
   "source": [
    "## Program #5 - Changing guest list\n",
    "\n",
    "You just heard that one of your guests can’t make the dinner, so you need to send out a new set of invitations. You’ll have to think of someone else to invite."
   ]
  },
  {
   "cell_type": "code",
   "execution_count": 12,
   "metadata": {},
   "outputs": [
    {
     "name": "stdout",
     "output_type": "stream",
     "text": [
      "They - I\n",
      "dont - already\n",
      "want - know\n",
      "to - they will\n",
      "come, but why?! - refuse\n"
     ]
    }
   ],
   "source": [
    "invite = [\"They\", \"dont\", \"want\", \"to\", \"come\"]\n",
    "\n",
    "invite[4] = \"come, but why?!\"\n",
    "\n",
    "print(invite[0] + \" - I\")\n",
    "print(invite[1] + \" - already\")\n",
    "print(invite[2] + \" - know\")\n",
    "print(invite[3] + \" - they will\")\n",
    "print(invite[4] + \" - refuse\")"
   ]
  },
  {
   "attachments": {},
   "cell_type": "markdown",
   "metadata": {},
   "source": [
    "## Program #6 - More Guests\n",
    "\n",
    "You just found a bigger dinner table, so now more space is available. Think of three more guests to invite to dinner."
   ]
  },
  {
   "cell_type": "code",
   "execution_count": 23,
   "metadata": {},
   "outputs": [
    {
     "name": "stdout",
     "output_type": "stream",
     "text": [
      "\n",
      "I even found a bigger table... Maybe they will come now?\n",
      "\n",
      "Idk man..... - I\n",
      "They - already\n",
      "really - know\n",
      "dont - they will\n",
      "want - refuse,\n",
      "to - but\n",
      "come - I still\n",
      ":( - try\n"
     ]
    }
   ],
   "source": [
    "invite = [\"They\", \"dont\", \"want\", \"to\", \"come\"]\n",
    "\n",
    "print(\"\\nI even found a bigger table... Maybe they will come now?\\n\")\n",
    "\n",
    "invite.insert(0, \"Idk man.....\")\n",
    "invite.insert(2, \"really\")\n",
    "invite.append(\":(\")\n",
    "\n",
    "print(invite[0] + \" - I\")\n",
    "print(invite[1] + \" - already\")\n",
    "print(invite[2] + \" - know\")\n",
    "print(invite[3] + \" - they will\")\n",
    "print(invite[4] + \" - refuse,\")\n",
    "print(invite[5] + \" - but\")\n",
    "print(invite[6] + \" - I still\")\n",
    "print(invite[7] + \" - try\")"
   ]
  },
  {
   "attachments": {},
   "cell_type": "markdown",
   "metadata": {},
   "source": [
    "## Program #7 - Shriking Guest List\n",
    "\n",
    "You just found out that your new dinner table won’t arrive in time for the dinner, and you have space for only two guests."
   ]
  },
  {
   "cell_type": "code",
   "execution_count": 39,
   "metadata": {},
   "outputs": [
    {
     "name": "stdout",
     "output_type": "stream",
     "text": [
      "They table wont arrive in time... \n",
      "It doesnt matter tho, they are not coming anyways... \n",
      "Guess it will only be me tonight..\n",
      "\n",
      ":(- Guess\n",
      "come- I\n",
      "to- will\n",
      "want- remove\n",
      "dont- these\n",
      "really- now\n",
      "\n",
      "Me - Guess it will\n",
      "Also me - only be me...\n",
      "\n",
      "I dont wanna sit here all alone... Screw this dinner, I am going to cry myself to sleep....\n"
     ]
    }
   ],
   "source": [
    "invite = ['Idk man.....', 'They', 'really', 'dont', 'want', 'to', 'come', ':(']\n",
    "\n",
    "print(\"They table wont arrive in time... \\nIt doesnt matter tho, they are not coming anyways... \\nGuess it will only be me tonight..\\n\")\n",
    "\n",
    "print(str(invite.pop()) + \"- Guess\")\n",
    "print(str(invite.pop()) + \"- I\")\n",
    "print(str(invite.pop()) + \"- will\")\n",
    "print(str(invite.pop()) + \"- remove\")\n",
    "print(str(invite.pop()) + \"- these\")\n",
    "print(str(invite.pop()) + \"- now\")\n",
    "\n",
    "invite[0] = \"Me\"\n",
    "invite[1] = \"Also me\"\n",
    "\n",
    "print()\n",
    "\n",
    "print(invite[0] + \" - Guess it will\")\n",
    "print(invite[1] + \" - only be me...\")\n",
    "\n",
    "print()\n",
    "\n",
    "print(\"I dont wanna sit here all alone... Screw this dinner, I am going to cry myself to sleep....\")\n",
    "\n",
    "del(invite[1])\n",
    "del(invite[0])"
   ]
  }
 ],
 "metadata": {
  "kernelspec": {
   "display_name": "Python 3",
   "language": "python",
   "name": "python3"
  },
  "language_info": {
   "codemirror_mode": {
    "name": "ipython",
    "version": 3
   },
   "file_extension": ".py",
   "mimetype": "text/x-python",
   "name": "python",
   "nbconvert_exporter": "python",
   "pygments_lexer": "ipython3",
   "version": "3.9.0"
  },
  "orig_nbformat": 4
 },
 "nbformat": 4,
 "nbformat_minor": 2
}
