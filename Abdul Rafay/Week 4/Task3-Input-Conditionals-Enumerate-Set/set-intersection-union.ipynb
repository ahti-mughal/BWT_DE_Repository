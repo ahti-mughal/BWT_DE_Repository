{
 "cells": [
  {
   "attachments": {},
   "cell_type": "markdown",
   "metadata": {},
   "source": [
    "## Set\n"
   ]
  },
  {
   "cell_type": "code",
   "execution_count": 10,
   "metadata": {},
   "outputs": [
    {
     "name": "stdout",
     "output_type": "stream",
     "text": [
      "{1, 2, 3, 4, 5}\n",
      "\n",
      "Length of set:  5 \n",
      "\n",
      "[0] 1\n",
      "[1] 2\n",
      "[2] 3\n",
      "[3] 4\n",
      "[4] 5\n",
      "\n",
      "<class 'set'>\n"
     ]
    }
   ],
   "source": [
    "sett = {1, 2, 3, 4, 5}\n",
    "\n",
    "print(sett)\n",
    "\n",
    "print(\"\\nLength of set: \", len(sett), \"\\n\")\n",
    "\n",
    "for count, elem in enumerate(sett):\n",
    "    print(\"[\" + str(count) + \"] \" + str(elem))\n",
    "\n",
    "print()\n",
    "\n",
    "print(type(sett))"
   ]
  },
  {
   "cell_type": "code",
   "execution_count": 8,
   "metadata": {},
   "outputs": [
    {
     "name": "stdout",
     "output_type": "stream",
     "text": [
      "{1, 2, 3}\n"
     ]
    }
   ],
   "source": [
    "## No duplicates\n",
    "\n",
    "sett = {1, 2, 2, 3, 3, 3}\n",
    "\n",
    "print(sett)"
   ]
  },
  {
   "attachments": {},
   "cell_type": "markdown",
   "metadata": {},
   "source": [
    "## Union"
   ]
  },
  {
   "cell_type": "code",
   "execution_count": 1,
   "metadata": {},
   "outputs": [
    {
     "name": "stdout",
     "output_type": "stream",
     "text": [
      "{1, 2, 3, 4, 5, 6}\n"
     ]
    }
   ],
   "source": [
    "sett_1 = {1, 4, 6}\n",
    "sett_2 = {2, 3, 5}\n",
    "\n",
    "sett_3 = sett_1.union(sett_2)\n",
    "\n",
    "print(sett_3)"
   ]
  },
  {
   "attachments": {},
   "cell_type": "markdown",
   "metadata": {},
   "source": [
    "## Intersection"
   ]
  },
  {
   "cell_type": "code",
   "execution_count": 2,
   "metadata": {},
   "outputs": [
    {
     "name": "stdout",
     "output_type": "stream",
     "text": [
      "{1}\n"
     ]
    }
   ],
   "source": [
    "sett_1 = {1, 4, 6}\n",
    "sett_2 = {1, 3, 5}\n",
    "\n",
    "sett_3 = sett_1.intersection(sett_2)\n",
    "\n",
    "print(sett_3)"
   ]
  },
  {
   "attachments": {},
   "cell_type": "markdown",
   "metadata": {},
   "source": [
    "## Difference\n"
   ]
  },
  {
   "cell_type": "code",
   "execution_count": 3,
   "metadata": {},
   "outputs": [
    {
     "name": "stdout",
     "output_type": "stream",
     "text": [
      "{4, 6}\n"
     ]
    }
   ],
   "source": [
    "sett_1 = {1, 4, 6}\n",
    "sett_2 = {1, 3, 5}\n",
    "\n",
    "sett_3 = sett_1.difference(sett_2)\n",
    "\n",
    "print(sett_3)"
   ]
  },
  {
   "attachments": {},
   "cell_type": "markdown",
   "metadata": {},
   "source": [
    "## Symmetric Difference"
   ]
  },
  {
   "cell_type": "code",
   "execution_count": 4,
   "metadata": {},
   "outputs": [
    {
     "name": "stdout",
     "output_type": "stream",
     "text": [
      "{3, 4, 5, 6}\n"
     ]
    }
   ],
   "source": [
    "sett_1 = {1, 4, 6}\n",
    "sett_2 = {1, 3, 5}\n",
    "\n",
    "sett_3 = sett_1.symmetric_difference(sett_2)\n",
    "\n",
    "print(sett_3)"
   ]
  },
  {
   "attachments": {},
   "cell_type": "markdown",
   "metadata": {},
   "source": [
    "## Making data unique with sets"
   ]
  },
  {
   "cell_type": "code",
   "execution_count": 5,
   "metadata": {},
   "outputs": [
    {
     "name": "stdout",
     "output_type": "stream",
     "text": [
      "{1, 2, 3, 4}\n"
     ]
    }
   ],
   "source": [
    "## List with duplicates\n",
    "lst = [1, 2, 2, 3, 3, 3, 4, 4, 4, 4]\n",
    "\n",
    "unique_data = set(lst)\n",
    "\n",
    "print(unique_data)"
   ]
  }
 ],
 "metadata": {
  "kernelspec": {
   "display_name": "Python 3",
   "language": "python",
   "name": "python3"
  },
  "language_info": {
   "codemirror_mode": {
    "name": "ipython",
    "version": 3
   },
   "file_extension": ".py",
   "mimetype": "text/x-python",
   "name": "python",
   "nbconvert_exporter": "python",
   "pygments_lexer": "ipython3",
   "version": "3.9.0"
  },
  "orig_nbformat": 4
 },
 "nbformat": 4,
 "nbformat_minor": 2
}
