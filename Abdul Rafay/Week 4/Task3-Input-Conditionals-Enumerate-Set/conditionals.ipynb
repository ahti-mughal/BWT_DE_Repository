{
 "cells": [
  {
   "attachments": {},
   "cell_type": "markdown",
   "metadata": {},
   "source": [
    "## Program #1 - Conditional Tests\n",
    "Write a series of conditional tests. Print a statement describing each test and your prediction for the results of each test."
   ]
  },
  {
   "cell_type": "code",
   "execution_count": 11,
   "metadata": {},
   "outputs": [
    {
     "name": "stdout",
     "output_type": "stream",
     "text": [
      "Is age greater than or equal to 18? I predict True.\n",
      "True\n",
      "Is name equal to 'Alice'? I predict True.\n",
      "True\n",
      "Is number less than 10? I predict True.\n",
      "True\n",
      "Is fruit not equal to 'apple'? I predict True.\n",
      "True\n",
      "Is it raining? I predict True.\n",
      "True\n",
      "Is x * y greater than 20? I predict False.\n",
      "False\n",
      "Has the student passed the exam? I predict False.\n",
      "False\n",
      "Is temperature greater than or equal to 30? I predict False.\n",
      "False\n",
      "Is language equal to 'Java'? I predict False.\n",
      "False\n",
      "Is it sunny? I predict False.\n",
      "False\n"
     ]
    }
   ],
   "source": [
    "age = 18\n",
    "print(\"Is age greater than or equal to 18? I predict True.\")\n",
    "print(age >= 18)\n",
    "\n",
    "name = 'Alice'\n",
    "print(\"Is name equal to 'Alice'? I predict True.\")\n",
    "print(name == 'Alice')\n",
    "\n",
    "number = 5\n",
    "print(\"Is number less than 10? I predict True.\")\n",
    "print(number < 10)\n",
    "\n",
    "fruit = 'banana'\n",
    "print(\"Is fruit not equal to 'apple'? I predict True.\")\n",
    "print(fruit != 'apple')\n",
    "\n",
    "is_raining = True\n",
    "print(\"Is it raining? I predict True.\")\n",
    "print(is_raining)\n",
    "\n",
    "x = 3\n",
    "y = 6\n",
    "print(\"Is x * y greater than 20? I predict False.\")\n",
    "print(x * y > 20)\n",
    "\n",
    "has_passed = False\n",
    "print(\"Has the student passed the exam? I predict False.\")\n",
    "print(has_passed)\n",
    "\n",
    "temperature = 25\n",
    "print(\"Is temperature greater than or equal to 30? I predict False.\")\n",
    "print(temperature >= 30)\n",
    "\n",
    "language = 'Python'\n",
    "print(\"Is language equal to 'Java'? I predict False.\")\n",
    "print(language == 'Java')\n",
    "\n",
    "is_sunny = False\n",
    "print(\"Is it sunny? I predict False.\")\n",
    "print(is_sunny)"
   ]
  },
  {
   "attachments": {},
   "cell_type": "markdown",
   "metadata": {},
   "source": [
    "## Program #2 - More Conditional Tests\n",
    "\n",
    "Have at least one True and one False result for\n",
    "each of the following:\n",
    "+ Tests for equality and inequality with strings\n",
    "+ Tests using the lower() function\n",
    "+ Numerical tests involving equality and inequality, greater than and less than, greater than or equal to, and less than or equal to\n",
    "+ Tests using the and keyword and the or keyword\n",
    "+ Test whether an item is in a list\n",
    "+ Test whether an item is not in a list"
   ]
  },
  {
   "cell_type": "code",
   "execution_count": 14,
   "metadata": {},
   "outputs": [
    {
     "name": "stdout",
     "output_type": "stream",
     "text": [
      "Is name equal to 'John'? I predict True.\n",
      "True\n",
      "Is name not equal to 'John'? I predict False.\n",
      "False\n",
      "Is word equal to 'hello' using lower()? I predict True.\n",
      "True\n",
      "Is word equal to 'Hi' using lower()? I predict False.\n",
      "False\n",
      "Is age equal to 25? I predict True.\n",
      "True\n",
      "Is age less than 25? I predict False.\n",
      "False\n",
      "Is number greater than 10 and less than 20? I predict True.\n",
      "True\n",
      "Is number greater than 20 or less than 10? I predict False.\n",
      "False\n",
      "Is 'banana' in the list? I predict True.\n",
      "True\n",
      "Is 'watermelon' in the list? I predict False.\n",
      "False\n",
      "Is 'Spinach' not in the list? I predict True.\n",
      "True\n",
      "Is 'Pumpkin' not in the list? I predict False.\n",
      "False\n"
     ]
    }
   ],
   "source": [
    "## String Equality / Unequality\n",
    "\n",
    "name = 'John'\n",
    "print(\"Is name equal to 'John'? I predict True.\")\n",
    "print(name == 'John')\n",
    "print(\"Is name not equal to 'John'? I predict False.\")\n",
    "print(name != 'John')\n",
    "\n",
    "## Tests using the lower() function\n",
    "\n",
    "word = 'HELLO'\n",
    "print(\"Is word equal to 'hello' using lower()? I predict True.\")\n",
    "print(word.lower() == 'hello')\n",
    "print(\"Is word equal to 'Hi' using lower()? I predict False.\")\n",
    "print(word.lower() == 'Hi')\n",
    "\n",
    "## Numerical tests\n",
    "\n",
    "age = 25\n",
    "print(\"Is age equal to 25? I predict True.\")\n",
    "print(age == 25)\n",
    "print(\"Is age less than 25? I predict False.\")\n",
    "print(age < 25)\n",
    "\n",
    "## Tests using the and keyword and the or keyword\n",
    "\n",
    "number = 15\n",
    "print(\"Is number greater than 10 and less than 20? I predict True.\")\n",
    "print(number > 10 and number < 20)\n",
    "print(\"Is number greater than 20 or less than 10? I predict False.\")\n",
    "print(number > 20 or number < 10)\n",
    "\n",
    "## Test whether an item is in a list\n",
    "\n",
    "fruits = ['apple', 'banana', 'orange']\n",
    "print(\"Is 'banana' in the list? I predict True.\")\n",
    "print('banana' in fruits)\n",
    "print(\"Is 'watermelon' in the list? I predict False.\")\n",
    "print('watermelon' in fruits)\n",
    "\n",
    "## Test whether an item is not in a list\n",
    "\n",
    "veggies = [\"Capsicum\", \"Pumpkin\", \"Pulses\"]\n",
    "print(\"Is 'Spinach' not in the list? I predict True.\")\n",
    "print(\"Spinach\" not in veggies)\n",
    "print(\"Is 'Pumpkin' not in the list? I predict False.\")\n",
    "print(\"Pumpkin\" not in veggies)"
   ]
  },
  {
   "attachments": {},
   "cell_type": "markdown",
   "metadata": {},
   "source": [
    "## Program #3 - Alien Colors #1\n",
    "\n",
    "Imagine an alien was just shot down in a game. Create a variable called alien_color and assign it a value of 'green', 'yellow', or 'red'.\n",
    "+ Write an if statement to test whether the alien’s color is green. If it is, print a message that the player just earned 5 points.\n",
    "+ Write one version of this program that passes the if test and another that fails. (The version that fails will have no output.)"
   ]
  },
  {
   "cell_type": "code",
   "execution_count": 15,
   "metadata": {},
   "outputs": [
    {
     "name": "stdout",
     "output_type": "stream",
     "text": [
      "You just earned 5 points!\n"
     ]
    }
   ],
   "source": [
    "alien_color = 'green'\n",
    "\n",
    "if alien_color == 'green':\n",
    "    print(\"You just earned 5 points!\")\n",
    "\n",
    "alien_color = 'red'\n",
    "\n",
    "if alien_color == 'green':\n",
    "    print(\"You just earned 5 points!\")\n"
   ]
  },
  {
   "attachments": {},
   "cell_type": "markdown",
   "metadata": {},
   "source": [
    "## Program #4 - Alien Colors #2\n",
    "\n",
    "Choose a color for an alien as you did above, and write an if-else chain.\n",
    "\n",
    "+ If the alien’s color is green, print a statement that the player just earned 5 points for shooting the alien.\n",
    "+ If the alien’s color isn’t green, print a statement that the player just earned 10 points.\n",
    "+ Write one version of this program that runs the if block and another that runs the else block."
   ]
  },
  {
   "cell_type": "code",
   "execution_count": 17,
   "metadata": {},
   "outputs": [
    {
     "name": "stdout",
     "output_type": "stream",
     "text": [
      "You just earned 5 points!\n",
      "You just earned 10 points!\n"
     ]
    }
   ],
   "source": [
    "alien_color = 'green'\n",
    "\n",
    "if alien_color == 'green':\n",
    "    print(\"You just earned 5 points!\")\n",
    "else:\n",
    "    print(\"You just earned 10 points!\")\n",
    "\n",
    "alien_color = 'yellow'\n",
    "\n",
    "if alien_color == 'green':\n",
    "    print(\"You just earned 5 points!\")\n",
    "else:\n",
    "    print(\"You just earned 10 points!\")\n"
   ]
  },
  {
   "attachments": {},
   "cell_type": "markdown",
   "metadata": {},
   "source": [
    "## Program #5 - Alien Colors #3\n",
    "\n",
    "Turn your if-else chain from above exercise into an if-elif-else chain.\n",
    "\n",
    "+ If the alien is green, print a message that the player earned 5 points.\n",
    "+ If the alien is yellow, print a message that the player earned 10 points.\n",
    "+ If the alien is red, print a message that the player earned 15 points.\n",
    "+ Write three versions of this program, making sure each message is printed for the appropriate color alien."
   ]
  },
  {
   "cell_type": "code",
   "execution_count": 18,
   "metadata": {},
   "outputs": [
    {
     "name": "stdout",
     "output_type": "stream",
     "text": [
      "You just earned 5 points!\n",
      "You just earned 10 points!\n",
      "You just earned 15 points!\n"
     ]
    }
   ],
   "source": [
    "alien_color = 'green'\n",
    "\n",
    "if alien_color == 'green':\n",
    "    print(\"You just earned 5 points!\")\n",
    "elif alien_color == 'yellow':\n",
    "    print(\"You just earned 10 points!\")\n",
    "else:\n",
    "    print(\"You just earned 15 points!\")\n",
    "\n",
    "\n",
    "alien_color = 'yellow'\n",
    "\n",
    "if alien_color == 'green':\n",
    "    print(\"You just earned 5 points!\")\n",
    "elif alien_color == 'yellow':\n",
    "    print(\"You just earned 10 points!\")\n",
    "else:\n",
    "    print(\"You just earned 15 points!\")\n",
    "\n",
    "\n",
    "alien_color = 'red'\n",
    "\n",
    "if alien_color == 'green':\n",
    "    print(\"You just earned 5 points!\")\n",
    "elif alien_color == 'yellow':\n",
    "    print(\"You just earned 10 points!\")\n",
    "else:\n",
    "    print(\"You just earned 15 points!\")\n"
   ]
  },
  {
   "attachments": {},
   "cell_type": "markdown",
   "metadata": {},
   "source": [
    "## Program #6 - Stages of Life\n",
    "\n",
    "Write an if-elif-else chain that determines a person’s stage of life. Set a value for the variable age, and then:\n",
    "+ If the person is less than 2 years old, print a message that the person is a baby.\n",
    "+ If the person is at least 2 years old but less than 4, print a message that the person is a toddler.\n",
    "+ If the person is at least 4 years old but less than 13, print a message that the person is a kid.\n",
    "+ If the person is at least 13 years old but less than 20, print a message that the person is a teenager.\n",
    "+ If the person is at least 20 years old but less than 65, print a message that the person is an adult.\n",
    "+ If the person is age 65 or older, print a message that the person is an elder."
   ]
  },
  {
   "cell_type": "code",
   "execution_count": 19,
   "metadata": {},
   "outputs": [
    {
     "name": "stdout",
     "output_type": "stream",
     "text": [
      "This person is an adult.\n"
     ]
    }
   ],
   "source": [
    "age = 25\n",
    "\n",
    "if age < 2:\n",
    "    print(\"This person is a baby.\")\n",
    "elif age < 4:\n",
    "    print(\"This person is a toddler.\")\n",
    "elif age < 13:\n",
    "    print(\"This person is a kid.\")\n",
    "elif age < 20:\n",
    "    print(\"This person is a teenager.\")\n",
    "elif age < 65:\n",
    "    print(\"This person is an adult.\")\n",
    "else:\n",
    "    print(\"This person is an elder.\")"
   ]
  },
  {
   "attachments": {},
   "cell_type": "markdown",
   "metadata": {},
   "source": [
    "## Program #6 - Favourite Fruit\n",
    "\n",
    "Make a list of your favorite fruits, and then write a series of independent if statements that check for certain fruits in your list.\n",
    "+ Make a list of your three favorite fruits and call it favorite_fruits.\n",
    "+ Write five if statements. Each should check whether a certain kind of fruit is in your list. If the fruit is in your list, the if block should print a statement, such as You really like bananas!"
   ]
  },
  {
   "cell_type": "code",
   "execution_count": 20,
   "metadata": {},
   "outputs": [
    {
     "name": "stdout",
     "output_type": "stream",
     "text": [
      "You really like apples!\n",
      "You really like bananas!\n",
      "You really like oranges!\n"
     ]
    }
   ],
   "source": [
    "favorite_fruits = ['apple', 'banana', 'orange']\n",
    "\n",
    "if 'apple' in favorite_fruits:\n",
    "    print(\"You really like apples!\")\n",
    "\n",
    "if 'banana' in favorite_fruits:\n",
    "    print(\"You really like bananas!\")\n",
    "\n",
    "if 'orange' in favorite_fruits:\n",
    "    print(\"You really like oranges!\")\n",
    "\n",
    "if 'grape' in favorite_fruits:\n",
    "    print(\"You really like grapes!\")\n",
    "\n",
    "if 'watermelon' in favorite_fruits:\n",
    "    print(\"You really like watermelons!\")\n"
   ]
  },
  {
   "attachments": {},
   "cell_type": "markdown",
   "metadata": {},
   "source": [
    "## Program #8 - Hello Admin\n",
    "\n",
    "Make a list of five or more usernames, including the name 'admin'. Imagine you are writing code that will print a greeting to each user after they log in to a website. Loop through the list, and print a greeting to each user:\n",
    "\n",
    "+ If the username is 'admin', print a special greeting, such as Hello admin,\n",
    "would you like to see a status report?\n",
    "+ Otherwise, print a generic greeting, such as Hello Eric, thank you for log-\n",
    "ging in again."
   ]
  },
  {
   "cell_type": "code",
   "execution_count": 22,
   "metadata": {},
   "outputs": [
    {
     "name": "stdout",
     "output_type": "stream",
     "text": [
      "Hello admin, would you like to see a status report?\n",
      "Hello Ali, thank you for logging in again.\n",
      "Hello Zaman, thank you for logging in again.\n",
      "Hello Komail, thank you for logging in again.\n",
      "Hello Dani, thank you for logging in again.\n"
     ]
    }
   ],
   "source": [
    "usernames = ['admin', 'Ali', 'Zaman', 'Komail', 'Dani']\n",
    "\n",
    "for username in usernames:\n",
    "    if username == 'admin':\n",
    "        print(\"Hello admin, would you like to see a status report?\")\n",
    "    else:\n",
    "        print(f\"Hello {username}, thank you for logging in again.\")"
   ]
  },
  {
   "attachments": {},
   "cell_type": "markdown",
   "metadata": {},
   "source": [
    "## Program #9 - No Users\n",
    "\n",
    "Add an if test to above program to make sure the list of users is not empty.\n",
    "+ If the list is empty, print the message We need to find some users!\n",
    "+ Remove all of the usernames from your list, and make sure the correct message is printed."
   ]
  },
  {
   "cell_type": "code",
   "execution_count": 23,
   "metadata": {},
   "outputs": [
    {
     "name": "stdout",
     "output_type": "stream",
     "text": [
      "We need to find some users!\n"
     ]
    }
   ],
   "source": [
    "usernames = []\n",
    "\n",
    "if usernames:\n",
    "    for username in usernames:\n",
    "        if username == 'admin':\n",
    "            print(\"Hello admin, would you like to see a status report?\")\n",
    "        else:\n",
    "            print(f\"Hello {username}, thank you for logging in again.\")\n",
    "else:\n",
    "    print(\"We need to find some users!\")"
   ]
  },
  {
   "attachments": {},
   "cell_type": "markdown",
   "metadata": {},
   "source": [
    "## Program #10 - Checking Usernames\n",
    "Do the following to create a program that simulates how websites ensure that everyone has a unique username.\n",
    "+ Make a list of five or more usernames called current_users.\n",
    "+ Make another list of five usernames called new_users. Make sure one or two of the new usernames are also in the current_users list.\n",
    "+ Loop through the new_users list to see if each new username has already been used. If it has, print a message that the person will need to enter a new username. If a username has not been used, print a message saying\n",
    "that the username is available.\n",
    "+ Make sure your comparison is case insensitive. If 'John' has been used, 'JOHN' should not be accepted."
   ]
  },
  {
   "cell_type": "code",
   "execution_count": 25,
   "metadata": {},
   "outputs": [
    {
     "name": "stdout",
     "output_type": "stream",
     "text": [
      "Sorry, the username ALI is already taken. Please enter a new username.\n",
      "The username  qasim is available.\n",
      "Sorry, the username AIMAN is already taken. Please enter a new username.\n"
     ]
    }
   ],
   "source": [
    "# make a list of current users\n",
    "current_users = ['ali', 'hassan', 'zubair', 'aiman']\n",
    "\n",
    "# make a list of new users\n",
    "new_users = ['ALI', 'qasim', 'AIMAN']\n",
    "\n",
    "# loop through the new_users list\n",
    "for new_user in new_users:\n",
    "    if new_user.lower() in [user.lower() for user in current_users]:\n",
    "        print(\"Sorry, the username \" + new_user + \" is already taken. Please enter a new username.\")\n",
    "    else:\n",
    "        print(f\"The username  \" + new_user + \" is available.\")"
   ]
  }
 ],
 "metadata": {
  "kernelspec": {
   "display_name": "Python 3",
   "language": "python",
   "name": "python3"
  },
  "language_info": {
   "codemirror_mode": {
    "name": "ipython",
    "version": 3
   },
   "file_extension": ".py",
   "mimetype": "text/x-python",
   "name": "python",
   "nbconvert_exporter": "python",
   "pygments_lexer": "ipython3",
   "version": "3.9.0"
  },
  "orig_nbformat": 4
 },
 "nbformat": 4,
 "nbformat_minor": 2
}
