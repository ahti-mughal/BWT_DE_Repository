{
 "cells": [
  {
   "attachments": {},
   "cell_type": "markdown",
   "metadata": {},
   "source": [
    "## Enumerate"
   ]
  },
  {
   "cell_type": "code",
   "execution_count": 1,
   "metadata": {},
   "outputs": [
    {
     "name": "stdout",
     "output_type": "stream",
     "text": [
      "[0] To\n",
      "[1] be\n",
      "[2] or\n",
      "[3] not\n",
      "[4] to\n",
      "[5] be\n",
      "********************\n",
      "[0] B\n",
      "[1] u\n",
      "[2] t\n",
      "[3]  \n",
      "[4] w\n",
      "[5] h\n",
      "[6] y\n",
      "[7] ?\n"
     ]
    }
   ],
   "source": [
    "lst = [\"To\", \"be\", \"or\", \"not\", \"to\", \"be\"]\n",
    "\n",
    "for count, elem in enumerate(lst):\n",
    "    print(\"[\" + str(count) + \"] \" +  elem)\n",
    "\n",
    "my_str = \"But why?\"\n",
    "\n",
    "print(\"*\"*20)\n",
    "for count, elem in enumerate(my_str):\n",
    "    print(\"[\" + str(count) + \"] \" +  elem)"
   ]
  }
 ],
 "metadata": {
  "kernelspec": {
   "display_name": "Python 3",
   "language": "python",
   "name": "python3"
  },
  "language_info": {
   "codemirror_mode": {
    "name": "ipython",
    "version": 3
   },
   "file_extension": ".py",
   "mimetype": "text/x-python",
   "name": "python",
   "nbconvert_exporter": "python",
   "pygments_lexer": "ipython3",
   "version": "3.9.0"
  },
  "orig_nbformat": 4
 },
 "nbformat": 4,
 "nbformat_minor": 2
}
