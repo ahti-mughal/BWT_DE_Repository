{
 "cells": [
  {
   "attachments": {},
   "cell_type": "markdown",
   "metadata": {},
   "source": [
    "## User Input"
   ]
  },
  {
   "cell_type": "code",
   "execution_count": 2,
   "metadata": {},
   "outputs": [
    {
     "name": "stdout",
     "output_type": "stream",
     "text": [
      "You entered Hey!\n"
     ]
    }
   ],
   "source": [
    "## String input\n",
    "\n",
    "inp = input(\"Enter a string: \")\n",
    "print(\"You entered \" + inp)"
   ]
  },
  {
   "cell_type": "code",
   "execution_count": 4,
   "metadata": {},
   "outputs": [
    {
     "name": "stdout",
     "output_type": "stream",
     "text": [
      "2 * input number = 46\n",
      "2 + input number = 5.9\n"
     ]
    }
   ],
   "source": [
    "## Numeric input\n",
    "\n",
    "inp = int(input(\"Enter a number: \"))\n",
    "print(\"2 * input number = \" + str(2 * inp))\n",
    "\n",
    "inp = float(input(\"Enter a float number: \"))\n",
    "print(\"2.2 + input number = \" + str(2.2 + inp))"
   ]
  }
 ],
 "metadata": {
  "kernelspec": {
   "display_name": "Python 3",
   "language": "python",
   "name": "python3"
  },
  "language_info": {
   "codemirror_mode": {
    "name": "ipython",
    "version": 3
   },
   "file_extension": ".py",
   "mimetype": "text/x-python",
   "name": "python",
   "nbconvert_exporter": "python",
   "pygments_lexer": "ipython3",
   "version": "3.9.0"
  },
  "orig_nbformat": 4
 },
 "nbformat": 4,
 "nbformat_minor": 2
}
