{
 "cells": [
  {
   "attachments": {},
   "cell_type": "markdown",
   "metadata": {},
   "source": [
    "## Program #1 - Simple Message\n",
    "\n",
    "Store a message in a variable, and then print that\n",
    "message."
   ]
  },
  {
   "cell_type": "code",
   "execution_count": 5,
   "metadata": {},
   "outputs": [
    {
     "name": "stdout",
     "output_type": "stream",
     "text": [
      "My message\n"
     ]
    }
   ],
   "source": [
    "variable = \"My message\"\n",
    "print(variable)"
   ]
  },
  {
   "attachments": {},
   "cell_type": "markdown",
   "metadata": {},
   "source": [
    "## Program #2 - Simple Messages\n",
    "\n",
    "Store a message in a variable, and print that message.\n",
    "Then change the value of your variable to a new message, and print the new\n",
    "message."
   ]
  },
  {
   "cell_type": "code",
   "execution_count": 6,
   "metadata": {},
   "outputs": [
    {
     "name": "stdout",
     "output_type": "stream",
     "text": [
      "My Message\n",
      "My New Message\n"
     ]
    }
   ],
   "source": [
    "variable = \"My Message\"\n",
    "print(variable)\n",
    "variable = \"My New Message\"\n",
    "print(variable)"
   ]
  },
  {
   "attachments": {},
   "cell_type": "markdown",
   "metadata": {},
   "source": [
    "## Program #3 - Personal Message\n",
    "\n",
    "Store a person’s name in a variable, and print a mes-\n",
    "sage to that person. Your message should be simple, such as, \n",
    "\n",
    "**“Hello Eric, would you like to learn some Python today?”**\n"
   ]
  },
  {
   "cell_type": "code",
   "execution_count": 21,
   "metadata": {},
   "outputs": [
    {
     "name": "stdout",
     "output_type": "stream",
     "text": [
      "Hey, are you okay?\n"
     ]
    }
   ],
   "source": [
    "var = \"Hey, are you okay?\"\n",
    "print(var)"
   ]
  },
  {
   "attachments": {},
   "cell_type": "markdown",
   "metadata": {},
   "source": [
    "## Program #4 - Name Cases\n",
    "\n",
    "Store a person’s name in a variable, and then print that person’s name in lowercase, uppercase, and titlecase."
   ]
  },
  {
   "cell_type": "code",
   "execution_count": 22,
   "metadata": {},
   "outputs": [
    {
     "name": "stdout",
     "output_type": "stream",
     "text": [
      "Bruce Wayne\n",
      "BRUCE WAYNE\n",
      "bruce wayne\n"
     ]
    }
   ],
   "source": [
    "string = \"bruce wayne\"\n",
    "print(string.title())\n",
    "print(string.upper())\n",
    "print(string.lower())"
   ]
  },
  {
   "attachments": {},
   "cell_type": "markdown",
   "metadata": {},
   "source": [
    "## Program #5 - Famous Quote"
   ]
  },
  {
   "cell_type": "markdown",
   "metadata": {},
   "source": [
    "Find a quote from a famous person you admire. Print the quote and the name of its author. Your output should look something like the following, including the quotation marks:\n",
    "\n",
    "**Albert Einstein once said, _“A person who never made a mistake never tried anything new.”_**"
   ]
  },
  {
   "cell_type": "code",
   "execution_count": 27,
   "metadata": {},
   "outputs": [
    {
     "name": "stdout",
     "output_type": "stream",
     "text": [
      "Marcus Aurelius once said, \n",
      "\n",
      "\t\"The object of life is not to be on the side of the majority,\n",
      "\t but to escape finding oneself in the ranks of the insane.\"\n"
     ]
    }
   ],
   "source": [
    "print(\"Marcus Aurelius once said, \\n\\n\\t\\\"The object of life is not to be on the side of the majority,\\n\\t but to escape finding oneself in the ranks of the insane.\\\"\")"
   ]
  },
  {
   "attachments": {},
   "cell_type": "markdown",
   "metadata": {},
   "source": [
    "## Program #6 - Famous Quote 2\n",
    "\n",
    "Repeat Exercise 2-5, but this time store the famous person’s name in a variable called famous_person. Then compose your message and store it in a new variable called message. Print your message."
   ]
  },
  {
   "cell_type": "code",
   "execution_count": 37,
   "metadata": {},
   "outputs": [
    {
     "name": "stdout",
     "output_type": "stream",
     "text": [
      "Marcus Aurelius\n",
      "\n",
      "\t\"The object of life is not to be on the side of the majority,\n",
      "\t but to escape finding oneself in the ranks of the insane.\"\n"
     ]
    }
   ],
   "source": [
    "famous_person = \"Marcus Aurelius\"\n",
    "message = \"\\n\\n\\t\\\"The object of life is not to be on the side of the majority,\\n\\t but to escape finding oneself in the ranks of the insane.\\\"\"\n",
    "\n",
    "print(famous_person + message)"
   ]
  },
  {
   "attachments": {},
   "cell_type": "markdown",
   "metadata": {},
   "source": [
    "## Program #7 - Stripping Names\n",
    "\n",
    "Store a person’s name, and include some whitespace characters at the beginning and end of the name. \n",
    "\n",
    "Print the name once, so the whitespace around the name is displayed. Then print the name using each of the three stripping functions, lstrip(), rstrip(), and strip()."
   ]
  },
  {
   "cell_type": "code",
   "execution_count": 43,
   "metadata": {},
   "outputs": [
    {
     "name": "stdout",
     "output_type": "stream",
     "text": [
      "' Kassandra '\n",
      "'Kassandra '\n",
      "' Kassandra'\n",
      "'Kassandra'\n"
     ]
    }
   ],
   "source": [
    "name = \" Kassandra \"\n",
    "print(\"'\" + name + \"'\")\n",
    "\n",
    "print(\"'\" + name.lstrip() + \"'\")\n",
    "print(\"'\" + name.rstrip() + \"'\")\n",
    "print(\"'\" + name.strip() + \"'\")"
   ]
  },
  {
   "attachments": {},
   "cell_type": "markdown",
   "metadata": {},
   "source": [
    "## Program #8 - Number Eight\n",
    "\n",
    "Write addition, subtraction, multiplication, and division operations that each result in the number 8. Be sure to enclose your operations in print statements to see the results."
   ]
  },
  {
   "cell_type": "code",
   "execution_count": 45,
   "metadata": {},
   "outputs": [
    {
     "name": "stdout",
     "output_type": "stream",
     "text": [
      "8\n",
      "8\n",
      "8\n",
      "8\n"
     ]
    }
   ],
   "source": [
    "print(4 + 4)\n",
    "print(13 - 5)\n",
    "print(2 * 4)\n",
    "print(int(24 / 3))"
   ]
  },
  {
   "attachments": {},
   "cell_type": "markdown",
   "metadata": {},
   "source": [
    "## Program #9 - Favourite Number\n",
    "\n",
    "Store your favorite number in a variable. Then, using that variable, create a message that reveals your favorite number. Print that message."
   ]
  },
  {
   "cell_type": "code",
   "execution_count": 49,
   "metadata": {},
   "outputs": [
    {
     "name": "stdout",
     "output_type": "stream",
     "text": [
      "My favourite number is 3!\n"
     ]
    }
   ],
   "source": [
    "fav_num = 3\n",
    "print(\"My favourite number is \" + str(fav_num) + \"!\")"
   ]
  },
  {
   "attachments": {},
   "cell_type": "markdown",
   "metadata": {},
   "source": [
    "## Program #10 - Adding Comments"
   ]
  },
  {
   "cell_type": "code",
   "execution_count": 51,
   "metadata": {},
   "outputs": [
    {
     "name": "stdout",
     "output_type": "stream",
     "text": [
      "Single line and multi-line comments!\n"
     ]
    }
   ],
   "source": [
    "## I am a single line comment!\n",
    "\n",
    "'''\n",
    "I am a \n",
    "multiline comment!\n",
    "'''\n",
    "\n",
    "print(\"Single line and multi-line comments!\")"
   ]
  },
  {
   "attachments": {},
   "cell_type": "markdown",
   "metadata": {},
   "source": [
    "## Progrma #11 The **ZEN** of Python"
   ]
  },
  {
   "cell_type": "code",
   "execution_count": 52,
   "metadata": {},
   "outputs": [
    {
     "name": "stdout",
     "output_type": "stream",
     "text": [
      "The Zen of Python, by Tim Peters\n",
      "\n",
      "Beautiful is better than ugly.\n",
      "Explicit is better than implicit.\n",
      "Simple is better than complex.\n",
      "Complex is better than complicated.\n",
      "Flat is better than nested.\n",
      "Sparse is better than dense.\n",
      "Readability counts.\n",
      "Special cases aren't special enough to break the rules.\n",
      "Although practicality beats purity.\n",
      "Errors should never pass silently.\n",
      "Unless explicitly silenced.\n",
      "In the face of ambiguity, refuse the temptation to guess.\n",
      "There should be one-- and preferably only one --obvious way to do it.\n",
      "Although that way may not be obvious at first unless you're Dutch.\n",
      "Now is better than never.\n",
      "Although never is often better than *right* now.\n",
      "If the implementation is hard to explain, it's a bad idea.\n",
      "If the implementation is easy to explain, it may be a good idea.\n",
      "Namespaces are one honking great idea -- let's do more of those!\n"
     ]
    }
   ],
   "source": [
    "import this"
   ]
  }
 ],
 "metadata": {
  "kernelspec": {
   "display_name": "Python 3",
   "language": "python",
   "name": "python3"
  },
  "language_info": {
   "codemirror_mode": {
    "name": "ipython",
    "version": 3
   },
   "file_extension": ".py",
   "mimetype": "text/x-python",
   "name": "python",
   "nbconvert_exporter": "python",
   "pygments_lexer": "ipython3",
   "version": "3.9.0"
  },
  "orig_nbformat": 4
 },
 "nbformat": 4,
 "nbformat_minor": 2
}
